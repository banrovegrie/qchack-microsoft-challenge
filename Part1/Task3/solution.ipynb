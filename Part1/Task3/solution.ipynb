{
 "cells": [
  {
   "cell_type": "code",
   "execution_count": 1,
   "id": "1e3997c0",
   "metadata": {},
   "outputs": [
    {
     "data": {
      "application/json": "[]",
      "text/html": [
       "<ul></ul>"
      ],
      "text/plain": []
     },
     "execution_count": 1,
     "metadata": {},
     "output_type": "execute_result"
    }
   ],
   "source": [
    "open Microsoft.Quantum.Arrays;\n",
    "open Microsoft.Quantum.Arithmetic;\n",
    "open Microsoft.Quantum.Canon;\n",
    "open Microsoft.Quantum.Convert;\n",
    "open Microsoft.Quantum.Diagnostics;\n",
    "open Microsoft.Quantum.Intrinsic;\n",
    "open Microsoft.Quantum.Logical;\n",
    "open Microsoft.Quantum.Math;\n",
    "open Microsoft.Quantum.Measurement;"
   ]
  },
  {
   "cell_type": "code",
   "execution_count": 2,
   "id": "560a35b4",
   "metadata": {},
   "outputs": [
    {
     "data": {
      "application/json": "[]",
      "text/html": [
       "<ul></ul>"
      ],
      "text/plain": []
     },
     "execution_count": 2,
     "metadata": {},
     "output_type": "execute_result"
    }
   ],
   "source": [
    "// Task 3 (5 points). f(x) = 1 if at least two of three input bits are different - hard version\n",
    "    //\n",
    "    // Inputs:\n",
    "    //      1) a 3-qubit array \"inputs\",\n",
    "    //      2) a qubit \"output\".\n",
    "    // Goal: Implement a marking oracle for function f(x) = 1 if at least two of the three bits of x are different.\n",
    "    //       That is, if both inputs are in a basis state, flip the state of the output qubit \n",
    "    //       if and only if the three bits written in the array \"inputs\" have both 0 and 1 among them,\n",
    "    //       and leave the state of the array \"inputs\" unchanged.\n",
    "    //       The effect of the oracle on superposition states should be defined by its linearity.\n",
    "    //       Don't use measurements; the implementation should use only X gates and its controlled variants.\n",
    "    //       This task will be tested using ToffoliSimulator.\n",
    "    // \n",
    "    // For example, the result of applying the operation to state (|001⟩ + |110⟩ + |111⟩)/√3 ⊗ |0⟩\n",
    "    // will be 1/√3|001⟩ ⊗ |1⟩ + 1/√3|110⟩ ⊗ |1⟩ + 1/√3|111⟩ ⊗ |0⟩.\n",
    "    //\n",
    "    // In this task, unlike in task 2, you are not allowed to use 4-qubit gates, \n",
    "    // and you are allowed to use at most one 3-qubit gate.\n",
    "    // Warning: some library operations, such as ApplyToEach, might count as multi-qubit gate,\n",
    "    // even though they apply single-qubit gates to separate qubits. Make sure you run the test\n",
    "    // on your solution to check that it passes before you submit the solution!"
   ]
  },
  {
   "cell_type": "code",
   "execution_count": 5,
   "id": "516f017f",
   "metadata": {},
   "outputs": [
    {
     "data": {
      "application/json": "[\"Task3_ValidTriangle\"]",
      "text/html": [
       "<ul><li>Task3_ValidTriangle</li></ul>"
      ],
      "text/plain": [
       "Task3_ValidTriangle"
      ]
     },
     "execution_count": 5,
     "metadata": {},
     "output_type": "execute_result"
    }
   ],
   "source": [
    "operation Task3_ValidTriangle (inputs : Qubit[], output : Qubit) : Unit is Adj+Ctl \n",
    "{\n",
    "    X(inputs[0]);\n",
    "    Controlled X(inputs[0..0], inputs[1]);\n",
    "    Controlled X(inputs[0..0], inputs[2]);\n",
    "    Controlled X(inputs[1..2], output);\n",
    "    Controlled X(inputs[0..0], inputs[1]);\n",
    "    Controlled X(inputs[0..0], inputs[2]);\n",
    "    X(inputs[0]);\n",
    "}"
   ]
  }
 ],
 "metadata": {
  "kernelspec": {
   "display_name": "Q#",
   "language": "qsharp",
   "name": "iqsharp"
  },
  "language_info": {
   "file_extension": ".qs",
   "mimetype": "text/x-qsharp",
   "name": "qsharp",
   "version": "0.14"
  }
 },
 "nbformat": 4,
 "nbformat_minor": 5
}
