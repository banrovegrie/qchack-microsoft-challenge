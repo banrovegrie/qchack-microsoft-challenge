{
 "cells": [
  {
   "cell_type": "code",
   "execution_count": null,
   "id": "0fb310c7",
   "metadata": {},
   "outputs": [],
   "source": [
    "open Microsoft.Quantum.Intrinsic;\n",
    "\n",
    "operation SampleQuantumRandomNumberGenerator() : Result {\n",
    "    use q = Qubit(); // Allocate a qubit.\n",
    "    H(q);            // Put the qubit to superposition. It now has a 50% chance of being 0 or 1.\n",
    "    let r = M(q);    // Measure the qubit value.\n",
    "    Reset(q);\n",
    "    return r;\n",
    "}"
   ]
  },
  {
   "cell_type": "code",
   "execution_count": null,
   "id": "9bc2ce0f",
   "metadata": {},
   "outputs": [],
   "source": []
  }
 ],
 "metadata": {
  "kernelspec": {
   "display_name": "Q#",
   "language": "qsharp",
   "name": "iqsharp"
  }
 },
 "nbformat": 4,
 "nbformat_minor": 5
}
