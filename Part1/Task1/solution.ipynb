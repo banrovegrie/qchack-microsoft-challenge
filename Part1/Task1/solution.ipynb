{
 "cells": [
  {
   "cell_type": "code",
   "execution_count": 5,
   "id": "6091ed76",
   "metadata": {},
   "outputs": [
    {
     "data": {
      "application/json": "[]",
      "text/html": [
       "<ul></ul>"
      ],
      "text/plain": []
     },
     "execution_count": 5,
     "metadata": {},
     "output_type": "execute_result"
    }
   ],
   "source": [
    "open Microsoft.Quantum.Arrays;\n",
    "open Microsoft.Quantum.Arithmetic;\n",
    "open Microsoft.Quantum.Canon;\n",
    "open Microsoft.Quantum.Convert;\n",
    "open Microsoft.Quantum.Diagnostics;\n",
    "open Microsoft.Quantum.Intrinsic;\n",
    "open Microsoft.Quantum.Logical;\n",
    "open Microsoft.Quantum.Math;\n",
    "open Microsoft.Quantum.Measurement;"
   ]
  },
  {
   "cell_type": "code",
   "execution_count": 6,
   "id": "9608d32b",
   "metadata": {},
   "outputs": [
    {
     "data": {
      "application/json": "[]",
      "text/html": [
       "<ul></ul>"
      ],
      "text/plain": []
     },
     "execution_count": 6,
     "metadata": {},
     "output_type": "execute_result"
    }
   ],
   "source": [
    "// Task 1 (1 point). f(x) = 1 if x is divisible by 4\n",
    "//         \n",
    "// Inputs:\n",
    "//      1) an N-qubit array \"inputs\" (3 ≤ N ≤ 5),\n",
    "//      2) a qubit \"output\".\n",
    "// Goal: Implement a marking oracle for function f(x) = 1 if x is divisible by 4.\n",
    "//       That is, if both inputs are in a basis state, flip the state of the output qubit \n",
    "//       if and only if the number written in the array \"inputs\" is divisible by 4,\n",
    "//       and leave the state of the array \"inputs\" unchanged.\n",
    "//       The array \"inputs\" uses little-endian encoding, i.e., \n",
    "//       the least significant bit of the integer is stored first.\n",
    "//       The effect of the oracle on superposition states should be defined by its linearity.\n",
    "//       Don't use measurements; the implementation should use only X gates and its controlled variants.\n",
    "//       This task will be tested using ToffoliSimulator.\n",
    "// \n",
    "// Example: the result of applying the oracle to a state (|001⟩ + |100⟩ + |111⟩)/√3 ⊗ |0⟩\n",
    "// will be 1/√3|001⟩ ⊗ |1⟩ + 1/√3|100⟩ ⊗ |0⟩ + 1/√3|111⟩ ⊗ |0⟩.\n",
    "//"
   ]
  },
  {
   "cell_type": "code",
   "execution_count": 22,
   "id": "75e3a5d5",
   "metadata": {},
   "outputs": [
    {
     "data": {
      "application/json": "[\"Task1_DivisibleByFour\"]",
      "text/html": [
       "<ul><li>Task1_DivisibleByFour</li></ul>"
      ],
      "text/plain": [
       "Task1_DivisibleByFour"
      ]
     },
     "execution_count": 22,
     "metadata": {},
     "output_type": "execute_result"
    }
   ],
   "source": [
    "operation Task1_DivisibleByFour (inputs : Qubit[], output : Qubit) : Unit is Adj+Ctl\n",
    "{\n",
    "    ApplyToEachCA(X, inputs);\n",
    "    Controlled X(inputs[0..2], output);\n",
    "}"
   ]
  },
  {
   "cell_type": "code",
   "execution_count": 23,
   "id": "d092d1a8",
   "metadata": {},
   "outputs": [
    {
     "data": {
      "application/json": "[\"VerifySingleOutputFunction\",\"IsDivisibleByFour\",\"Task1_DivisibleByFour\",\"Test1_DivisibleByFour\"]",
      "text/html": [
       "<ul><li>VerifySingleOutputFunction</li><li>IsDivisibleByFour</li><li>Task1_DivisibleByFour</li><li>Test1_DivisibleByFour</li></ul>"
      ],
      "text/plain": [
       "VerifySingleOutputFunction, IsDivisibleByFour, Task1_DivisibleByFour, Test1_DivisibleByFour"
      ]
     },
     "execution_count": 23,
     "metadata": {},
     "output_type": "execute_result"
    }
   ],
   "source": [
    "operation VerifySingleOutputFunction(numInputs : Int, op : ((Qubit[], Qubit) => Unit is Adj+Ctl), predicate : (Int -> Bool)) : Unit {\n",
    "        for assignment in 0 .. 2^numInputs - 1 {\n",
    "            use (inputs, output) = (Qubit[numInputs], Qubit());\n",
    "            within {\n",
    "                ApplyXorInPlace(assignment, LittleEndian(inputs));\n",
    "                AllowAtMostNCallsCA(0, Measure, \"You are not allowed to use measurements\");\n",
    "            } apply {\n",
    "                op(inputs, output);\n",
    "            }\n",
    "\n",
    "            // Check that the result is expected\n",
    "            let actual = ResultAsBool(MResetZ(output));\n",
    "            let expected = predicate(assignment);\n",
    "            Fact(actual == expected,\n",
    "                $\"Oracle evaluation result {actual} does not match expected {expected} for assignment {IntAsBoolArray(assignment, numInputs)}\");\n",
    "\n",
    "            // Check that the inputs were not modified\n",
    "            Fact(MeasureInteger(LittleEndian(inputs)) == 0, \n",
    "                $\"The input states were modified for assignment {assignment}\");\n",
    "        }\n",
    "    }\n",
    "\n",
    "\n",
    "    // ------------------------------------------------------\n",
    "    function IsDivisibleByFour (input : Int) : Bool {\n",
    "        return input % 4 == 0;\n",
    "    }\n",
    "    \n",
    "    operation Task1_DivisibleByFour (inputs : Qubit[], output : Qubit) : Unit is Adj+Ctl\n",
    "    {\n",
    "        ApplyToEachCA(X, inputs);\n",
    "        Controlled X(inputs[0..2], output);\n",
    "    }\n",
    "\n",
    "    \n",
    "    operation Test1_DivisibleByFour() : Unit {\n",
    "        for i in 3 .. 5 {\n",
    "            VerifySingleOutputFunction(3, Task1_DivisibleByFour, IsDivisibleByFour);\n",
    "        }\n",
    "    }"
   ]
  },
  {
   "cell_type": "code",
   "execution_count": 24,
   "id": "0ddcffcb",
   "metadata": {},
   "outputs": [
    {
     "data": {
      "text/html": [
       "\r\n",
       "                    <details>\r\n",
       "                        <summary>\r\n",
       "                            Unhandled exception of type Microsoft.Quantum.Simulation.Core.ExecutionFailException: The input states were modified for assignment 0\r\n",
       "                        </summary>\r\n",
       "                        <table>\r\n",
       "                            <thead>\r\n",
       "                                <tr>\r\n",
       "                                    <th>Source</th>\r\n",
       "                                    <th>Callable</th>\r\n",
       "                                </tr>\r\n",
       "                            </thead>\r\n",
       "\r\n",
       "                            <tbody>\r\n",
       "                                \r\n",
       "                        <tr>\r\n",
       "                            <td>(notebook)</td>\r\n",
       "                            <td>VerifySingleOutputFunction</td>\r\n",
       "                        </tr>\r\n",
       "                    \n",
       "\r\n",
       "                        <tr>\r\n",
       "                            <td>(notebook)</td>\r\n",
       "                            <td>Test1_DivisibleByFour</td>\r\n",
       "                        </tr>\r\n",
       "                    \r\n",
       "                            </tbody>\r\n",
       "                        </table>\r\n",
       "                    </details>\r\n",
       "                "
      ],
      "text/plain": [
       "Unhandled exception. Microsoft.Quantum.Simulation.Core.ExecutionFailException: The input states were modified for assignment 0\n",
       " ---> SNIPPET.VerifySingleOutputFunction on /snippet_.qs:line 0\n",
       "   at SNIPPET.Test1_DivisibleByFour on /snippet_.qs:line 0\n"
      ]
     },
     "metadata": {},
     "output_type": "display_data"
    },
    {
     "name": "stderr",
     "output_type": "stream",
     "text": [
      "The input states were modified for assignment 0\n"
     ]
    }
   ],
   "source": [
    "%simulate Test1_DivisibleByFour"
   ]
  }
 ],
 "metadata": {
  "kernelspec": {
   "display_name": "Q#",
   "language": "qsharp",
   "name": "iqsharp"
  },
  "language_info": {
   "file_extension": ".qs",
   "mimetype": "text/x-qsharp",
   "name": "qsharp",
   "version": "0.14"
  }
 },
 "nbformat": 4,
 "nbformat_minor": 5
}
