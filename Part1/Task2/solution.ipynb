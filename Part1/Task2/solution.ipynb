{
 "cells": [
  {
   "cell_type": "code",
   "execution_count": 8,
   "id": "e98d2cfc",
   "metadata": {},
   "outputs": [
    {
     "data": {
      "application/json": "[]",
      "text/html": [
       "<ul></ul>"
      ],
      "text/plain": []
     },
     "execution_count": 8,
     "metadata": {},
     "output_type": "execute_result"
    }
   ],
   "source": [
    "open Microsoft.Quantum.Arrays;\n",
    "open Microsoft.Quantum.Arithmetic;\n",
    "open Microsoft.Quantum.Canon;\n",
    "open Microsoft.Quantum.Convert;\n",
    "open Microsoft.Quantum.Diagnostics;\n",
    "open Microsoft.Quantum.Intrinsic;\n",
    "open Microsoft.Quantum.Logical;\n",
    "open Microsoft.Quantum.Math;\n",
    "open Microsoft.Quantum.Measurement;\n",
    "\n",
    "    // Task 2 (2 points). f(x) = 1 if at least two of three input bits are different - easy version\n",
    "    //\n",
    "    // Inputs:\n",
    "    //      1) a 3-qubit array \"inputs\",\n",
    "    //      2) a qubit \"output\".\n",
    "    // Goal: Implement a marking oracle for function f(x) = 1 if at least two of the three bits of x are different.\n",
    "    //       That is, if both inputs are in a basis state, flip the state of the output qubit \n",
    "    //       if and only if the three bits written in the array \"inputs\" have both 0 and 1 among them,\n",
    "    //       and leave the state of the array \"inputs\" unchanged.\n",
    "    //       The effect of the oracle on superposition states should be defined by its linearity.\n",
    "    //       Don't use measurements; the implementation should use only X gates and its controlled variants.\n",
    "    //       This task will be tested using ToffoliSimulator.\n",
    "    // \n",
    "    // For example, the result of applying the operation to state (|001⟩ + |110⟩ + |111⟩)/√3 ⊗ |0⟩\n",
    "    // will be 1/√3|001⟩ ⊗ |1⟩ + 1/√3|110⟩ ⊗ |1⟩ + 1/√3|111⟩ ⊗ |0⟩.\n",
    "    //"
   ]
  },
  {
   "cell_type": "code",
   "execution_count": 13,
   "id": "9f5bf142",
   "metadata": {},
   "outputs": [
    {
     "data": {
      "application/json": "[\"Task2_ValidTriangle\"]",
      "text/html": [
       "<ul><li>Task2_ValidTriangle</li></ul>"
      ],
      "text/plain": [
       "Task2_ValidTriangle"
      ]
     },
     "execution_count": 13,
     "metadata": {},
     "output_type": "execute_result"
    }
   ],
   "source": [
    "  operation Task2_ValidTriangle (inputs : Qubit[], output : Qubit) : Unit is Adj+Ctl {\n",
    "        Controlled X(inputs, output);\n",
    "        ApplyToEachCA(X, inputs);\n",
    "        Controlled X(inputs, output);\n",
    "        X(output);\n",
    "        ApplyToEachCA(X, inputs);\n",
    "    }"
   ]
  },
  {
   "cell_type": "code",
   "execution_count": 14,
   "id": "1770917a",
   "metadata": {},
   "outputs": [
    {
     "data": {
      "application/json": "[\"VerifySingleOutputFunction\",\"IsTriangleValid\",\"Test2_ValidTriangle\"]",
      "text/html": [
       "<ul><li>VerifySingleOutputFunction</li><li>IsTriangleValid</li><li>Test2_ValidTriangle</li></ul>"
      ],
      "text/plain": [
       "VerifySingleOutputFunction, IsTriangleValid, Test2_ValidTriangle"
      ]
     },
     "execution_count": 14,
     "metadata": {},
     "output_type": "execute_result"
    }
   ],
   "source": [
    "internal operation VerifySingleOutputFunction(numInputs : Int, op : ((Qubit[], Qubit) => Unit is Adj+Ctl), predicate : (Int -> Bool)) : Unit {\n",
    "        for assignment in 0 .. 2^numInputs - 1 {\n",
    "            use (inputs, output) = (Qubit[numInputs], Qubit());\n",
    "            within {\n",
    "                ApplyXorInPlace(assignment, LittleEndian(inputs));\n",
    "                AllowAtMostNCallsCA(0, Measure, \"You are not allowed to use measurements\");\n",
    "            } apply {\n",
    "                op(inputs, output);\n",
    "            }\n",
    "\n",
    "            // Check that the result is expected\n",
    "            let actual = ResultAsBool(MResetZ(output));\n",
    "            let expected = predicate(assignment);\n",
    "            Fact(actual == expected,\n",
    "                $\"Oracle evaluation result {actual} does not match expected {expected} for assignment {IntAsBoolArray(assignment, numInputs)}\");\n",
    "\n",
    "            // Check that the inputs were not modified\n",
    "            Fact(MeasureInteger(LittleEndian(inputs)) == 0, \n",
    "                $\"The input states were modified for assignment {assignment}\");\n",
    "        }\n",
    "    }\n",
    "\n",
    "\n",
    "    // ------------------------------------------------------\n",
    "    internal function IsTriangleValid (input : Int) : Bool {\n",
    "        // the triangle is valid if it has at least two different bits (i.e., not all are the same)\n",
    "        return input > 0 and input < 7;\n",
    "    }\n",
    "\n",
    "    //@Test(\"ToffoliSimulator\")\n",
    "    operation Test2_ValidTriangle() : Unit {\n",
    "        VerifySingleOutputFunction(3, Task2_ValidTriangle, IsTriangleValid);\n",
    "    }"
   ]
  },
  {
   "cell_type": "code",
   "execution_count": 16,
   "id": "c357995e",
   "metadata": {},
   "outputs": [
    {
     "data": {
      "text/html": [
       "\r\n",
       "                    <details>\r\n",
       "                        <summary>\r\n",
       "                            Unhandled exception of type Microsoft.Quantum.Simulation.Core.ExecutionFailException: Oracle evaluation result True does not match expected False for assignment [False,False,False]\r\n",
       "                        </summary>\r\n",
       "                        <table>\r\n",
       "                            <thead>\r\n",
       "                                <tr>\r\n",
       "                                    <th>Source</th>\r\n",
       "                                    <th>Callable</th>\r\n",
       "                                </tr>\r\n",
       "                            </thead>\r\n",
       "\r\n",
       "                            <tbody>\r\n",
       "                                \r\n",
       "                        <tr>\r\n",
       "                            <td>(notebook)</td>\r\n",
       "                            <td>VerifySingleOutputFunction</td>\r\n",
       "                        </tr>\r\n",
       "                    \n",
       "\r\n",
       "                        <tr>\r\n",
       "                            <td>(notebook)</td>\r\n",
       "                            <td>Test2_ValidTriangle</td>\r\n",
       "                        </tr>\r\n",
       "                    \r\n",
       "                            </tbody>\r\n",
       "                        </table>\r\n",
       "                    </details>\r\n",
       "                "
      ],
      "text/plain": [
       "Unhandled exception. Microsoft.Quantum.Simulation.Core.ExecutionFailException: Oracle evaluation result True does not match expected False for assignment [False,False,False]\n",
       " ---> SNIPPET.VerifySingleOutputFunction on /snippet_.qs:line 0\n",
       "   at SNIPPET.Test2_ValidTriangle on /snippet_.qs:line 0\n"
      ]
     },
     "metadata": {},
     "output_type": "display_data"
    },
    {
     "name": "stderr",
     "output_type": "stream",
     "text": [
      "Oracle evaluation result True does not match expected False for assignment [False,False,False]\n"
     ]
    }
   ],
   "source": [
    "%toffoli Test2_ValidTriangle"
   ]
  },
  {
   "cell_type": "code",
   "execution_count": null,
   "id": "c0b95b03",
   "metadata": {},
   "outputs": [],
   "source": []
  }
 ],
 "metadata": {
  "kernelspec": {
   "display_name": "Q#",
   "language": "qsharp",
   "name": "iqsharp"
  },
  "language_info": {
   "file_extension": ".qs",
   "mimetype": "text/x-qsharp",
   "name": "qsharp",
   "version": "0.14"
  }
 },
 "nbformat": 4,
 "nbformat_minor": 5
}
