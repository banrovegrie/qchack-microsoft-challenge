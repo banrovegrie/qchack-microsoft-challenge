{
 "cells": [
  {
   "cell_type": "code",
   "execution_count": 43,
   "id": "68d5d6f3",
   "metadata": {},
   "outputs": [
    {
     "data": {
      "application/json": "[]",
      "text/html": [
       "<ul></ul>"
      ],
      "text/plain": []
     },
     "execution_count": 43,
     "metadata": {},
     "output_type": "execute_result"
    }
   ],
   "source": [
    "open Microsoft.Quantum.Arrays;\n",
    "open Microsoft.Quantum.Arithmetic;\n",
    "open Microsoft.Quantum.Canon;\n",
    "open Microsoft.Quantum.Convert;\n",
    "open Microsoft.Quantum.Diagnostics;\n",
    "open Microsoft.Quantum.Intrinsic;\n",
    "open Microsoft.Quantum.Logical;\n",
    "open Microsoft.Quantum.Math;\n",
    "open Microsoft.Quantum.Measurement;"
   ]
  },
  {
   "cell_type": "code",
   "execution_count": 44,
   "id": "c818f641",
   "metadata": {},
   "outputs": [
    {
     "data": {
      "application/json": "[]",
      "text/html": [
       "<ul></ul>"
      ],
      "text/plain": []
     },
     "execution_count": 44,
     "metadata": {},
     "output_type": "execute_result"
    }
   ],
   "source": [
    "// Task 4 (12 points). f(x) = 1 if the graph edge coloring is triangle-free\n",
    "// \n",
    "// Inputs:\n",
    "//      1) The number of vertices in the graph \"V\" (V ≤ 6).\n",
    "//      2) An array of E tuples of integers \"edges\", representing the edges of the graph (0 ≤ E ≤ V(V-1)/2).\n",
    "//         Each tuple gives the indices of the start and the end vertices of the edge.\n",
    "//         The vertices are indexed 0 through V - 1.\n",
    "//         The graph is undirected, so the order of the start and the end vertices in the edge doesn't matter.\n",
    "//      3) An array of E qubits \"colorsRegister\" that encodes the color assignments of the edges.\n",
    "//         Each color will be 0 or 1 (stored in 1 qubit).\n",
    "//         The colors of edges in this array are given in the same order as the edges in the \"edges\" array.\n",
    "//      4) A qubit \"target\" in an arbitrary state.\n",
    "//\n",
    "// Goal: Implement a marking oracle for function f(x) = 1 if\n",
    "//       the coloring of the edges of the given graph described by this colors assignment is triangle-free, i.e.,\n",
    "//       no triangle of edges connecting 3 vertices has all three edges in the same color.\n",
    "//\n",
    "// Example: a graph with 3 vertices and 3 edges [(0, 1), (1, 2), (2, 0)] has one triangle.\n",
    "// The result of applying the operation to state (|001⟩ + |110⟩ + |111⟩)/√3 ⊗ |0⟩ \n",
    "// will be 1/√3|001⟩ ⊗ |1⟩ + 1/√3|110⟩ ⊗ |1⟩ + 1/√3|111⟩ ⊗ |0⟩.\n",
    "// The first two terms describe triangle-free colorings, \n",
    "// and the last term describes a coloring where all edges of the triangle have the same color.\n",
    "//\n",
    "// In this task you are not allowed to use quantum gates that use more qubits than the number of edges in the graph,\n",
    "// unless there are 3 or less edges in the graph. For example, if the graph has 4 edges, you can only use 4-qubit gates or less.\n",
    "// You are guaranteed that in tests that have 4 or more edges in the graph the number of triangles in the graph \n",
    "// will be strictly less than the number of edges.\n",
    "//\n",
    "// Hint: Make use of helper functions and helper operations, and avoid trying to fit the complete\n",
    "//       implementation into a single operation - it's not impossible but make your code less readable.\n",
    "//       GraphColoring kata has an example of implementing oracles for a similar task.\n",
    "//\n",
    "// Hint: Remember that you can examine the inputs and the intermediary results of your computations\n",
    "//       using Message function for classical values and DumpMachine for quantum states.\n",
    "//"
   ]
  },
  {
   "cell_type": "code",
   "execution_count": 45,
   "id": "78f9341a",
   "metadata": {},
   "outputs": [
    {
     "data": {
      "application/json": "[\"task3\"]",
      "text/html": [
       "<ul><li>task3</li></ul>"
      ],
      "text/plain": [
       "task3"
      ]
     },
     "execution_count": 45,
     "metadata": {},
     "output_type": "execute_result"
    }
   ],
   "source": [
    "operation task3 (inputs : Qubit[], output : Qubit) : Unit is Adj+Ctl \n",
    "{\n",
    "    X(inputs[0]);\n",
    "    Controlled X(inputs[0..0], inputs[1]);\n",
    "    Controlled X(inputs[0..0], inputs[2]);\n",
    "    Controlled X(inputs[1..2], output);\n",
    "    Controlled X(inputs[0..0], inputs[1]);\n",
    "    Controlled X(inputs[0..0], inputs[2]);\n",
    "    X(inputs[0]);\n",
    "    \n",
    "    X(output);\n",
    "}"
   ]
  },
  {
   "cell_type": "code",
   "execution_count": 63,
   "id": "6979b288",
   "metadata": {},
   "outputs": [
    {
     "data": {
      "application/json": "[\"getTriangles\"]",
      "text/html": [
       "<ul><li>getTriangles</li></ul>"
      ],
      "text/plain": [
       "getTriangles"
      ]
     },
     "execution_count": 63,
     "metadata": {},
     "output_type": "execute_result"
    }
   ],
   "source": [
    "function getTriangles(edges : (Int, Int)[]) : (Int, Int, Int)[] \n",
    "{\n",
    "    let n = Length(edges);\n",
    "    \n",
    "    mutable triangles = new (Int, Int, Int)[n];\n",
    "    mutable counter = 0;\n",
    "    \n",
    "    for i in 0..n-1 \n",
    "    {\n",
    "        let (a1, a2) = edges[i];\n",
    "        for j in i+1..n-1\n",
    "        {\n",
    "            let (b1, b2) = edges[j];\n",
    "            \n",
    "            // check if atleast one pair is same\n",
    "            if (a1 == b1 or a2 == b1 or a1 == b2 or a2 == b2)\n",
    "            {\n",
    "                for k in j+1..n-1\n",
    "                {\n",
    "                    let (c1, c2) = edges[k];\n",
    "                    \n",
    "                    // final check\n",
    "                    if ((c1 == a2 and c2 == b2) or\n",
    "                        (c1 == a1 and c2 == b2) or\n",
    "                        (c1 == a2 and c2 == b1) or\n",
    "                        (c1 == a1 and c2 == b1) or \n",
    "                        (c2 == a2 and c1 == b2) or\n",
    "                        (c2 == a1 and c1 == b2) or\n",
    "                        (c2 == a2 and c1 == b1) or\n",
    "                        (c2 == a1 and c1 == b1))\n",
    "                    {\n",
    "                        set triangles w/= counter <- (i, j, k);\n",
    "                        set counter += 1;\n",
    "                    }\n",
    "\n",
    "                }\n",
    "            }\n",
    "        }\n",
    "    }\n",
    "    \n",
    "    //Console.Write(triangles);    \n",
    "    return triangles[0..counter-];\n",
    "}"
   ]
  },
  {
   "cell_type": "code",
   "execution_count": 47,
   "id": "388ba0b1",
   "metadata": {},
   "outputs": [
    {
     "data": {
      "application/json": "[\"Task4_TriangleFreeColoringOracle\"]",
      "text/html": [
       "<ul><li>Task4_TriangleFreeColoringOracle</li></ul>"
      ],
      "text/plain": [
       "Task4_TriangleFreeColoringOracle"
      ]
     },
     "execution_count": 47,
     "metadata": {},
     "output_type": "execute_result"
    }
   ],
   "source": [
    "operation Task4_TriangleFreeColoringOracle \n",
    "(\n",
    "    V : Int, \n",
    "    edges : (Int, Int)[], \n",
    "    colorsRegister : Qubit[], \n",
    "    target : Qubit\n",
    ") : Unit is Adj+Ctl \n",
    "{\n",
    "    let triangles = getTriangles(edges);\n",
    "    let len = Length(triangles);\n",
    "    let qs = new Qubit[len];\n",
    "    \n",
    "    for i in 0..len-1 \n",
    "    {\n",
    "        let (x, y, z) = triangles[i];\n",
    "        task3([colorsRegister[x],colorsRegister[y],colorsRegister[z]], qs[i]);\n",
    "    }\n",
    "    \n",
    "    Controlled X(qs, target);\n",
    "    \n",
    "    for i in 0..len-1 \n",
    "    {\n",
    "        let (x, y, z) = triangles[i];\n",
    "        task3([colorsRegister[x],colorsRegister[y],colorsRegister[z]], qs[i]);\n",
    "    }\n",
    "}"
   ]
  },
  {
   "cell_type": "code",
   "execution_count": 60,
   "id": "eabb00ae",
   "metadata": {},
   "outputs": [
    {
     "name": "stderr",
     "output_type": "stream",
     "text": [
      "/snippet_.qs(3,12): error QS6210: The type of the given argument does not match the expected type. Got an argument of type (Int, Int, Int)[], expecting one of type String instead.\n"
     ]
    }
   ],
   "source": [
    "operation testSanity () : Unit\n",
    "{\n",
    "    Message(getTriangles([(1, 2), (2, 3), (1, 3)]));    \n",
    "}"
   ]
  }
 ],
 "metadata": {
  "kernelspec": {
   "display_name": "Q#",
   "language": "qsharp",
   "name": "iqsharp"
  },
  "language_info": {
   "file_extension": ".qs",
   "mimetype": "text/x-qsharp",
   "name": "qsharp",
   "version": "0.14"
  }
 },
 "nbformat": 4,
 "nbformat_minor": 5
}
